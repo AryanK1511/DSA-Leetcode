{
 "cells": [
  {
   "cell_type": "markdown",
   "id": "a5c99743-87be-4799-8f91-32eb9c84de52",
   "metadata": {},
   "source": [
    "# Day 2 - 18 February 2024\n",
    "\n",
    "## Prefix Sum\n",
    "\n",
    "**Q1)** Given an integer array nums, an array queries where queries[i] = [x, y] and an integer limit, return a boolean array that represents the answer to each query. A query is true if the sum of the subarray from x to y is less than limit, or false otherwise."
   ]
  },
  {
   "cell_type": "code",
   "execution_count": 2,
   "id": "288f34b5-2043-41dc-bfdb-fc56fe89cf91",
   "metadata": {},
   "outputs": [
    {
     "data": {
      "text/plain": [
       "[True, False, True]"
      ]
     },
     "execution_count": 2,
     "metadata": {},
     "output_type": "execute_result"
    }
   ],
   "source": [
    "nums = [1, 6, 3, 2, 7, 2]\n",
    "queries = [[0, 3], [2, 5], [2, 4]]\n",
    "limit = 13\n",
    "\n",
    "def less_than_limit(nums, queries, limit):\n",
    "    prefix_sum = [nums[0]]\n",
    "\n",
    "    for i in range(1, len(nums)):\n",
    "        prefix_sum.append(nums[i] + prefix_sum[i - 1])\n",
    "\n",
    "    ans = []\n",
    "    for query in queries:\n",
    "        subarr_sum = prefix_sum[query[1]] - prefix_sum[query[0]] + nums[query[0]]\n",
    "\n",
    "        if subarr_sum < limit:\n",
    "            ans.append(True)\n",
    "        else:\n",
    "            ans.append(False)\n",
    "\n",
    "    return ans\n",
    "\n",
    "less_than_limit(nums, queries, limit)"
   ]
  },
  {
   "cell_type": "markdown",
   "id": "309fbdca-8b1e-45eb-b7c8-ca76245c78b6",
   "metadata": {},
   "source": [
    "**Q2)** Given an integer array nums, find the number of ways to split the array into two parts so that the first section has a sum greater than or equal to the sum of the second section. The second section should have at least one number."
   ]
  },
  {
   "cell_type": "code",
   "execution_count": 13,
   "id": "f4158e4f-9715-47e3-9f25-f9a753675939",
   "metadata": {},
   "outputs": [
    {
     "data": {
      "text/plain": [
       "2"
      ]
     },
     "execution_count": 13,
     "metadata": {},
     "output_type": "execute_result"
    }
   ],
   "source": [
    "nums = [10, 4, -8, 7]\n",
    "\n",
    "def split_ways(nums):\n",
    "    prefix_sum = [nums[0]]\n",
    "    count = 0\n",
    "    \n",
    "    for i in range(1, len(nums)):\n",
    "        prefix_sum.append(nums[i] + prefix_sum[i - 1])\n",
    "\n",
    "    for j in range(len(nums) - 1):\n",
    "        left_sum = prefix_sum[j]\n",
    "        right_sum = prefix_sum[len(nums) - 1] - prefix_sum[j] \n",
    "\n",
    "        if left_sum >= right_sum:\n",
    "            count += 1\n",
    "\n",
    "    return count\n",
    "\n",
    "split_ways(nums)"
   ]
  },
  {
   "cell_type": "markdown",
   "id": "bdb0d025-ee8e-48a5-a565-f9d57ffc40b0",
   "metadata": {},
   "source": [
    "**Q3)** Given an array nums. We define a running sum of an array as runningSum[i] = sum(nums[0]…nums[i]). Return the running sum of nums."
   ]
  },
  {
   "cell_type": "code",
   "execution_count": 14,
   "id": "aec48f95-5f41-4cad-8f1d-92451ca41553",
   "metadata": {},
   "outputs": [
    {
     "data": {
      "text/plain": [
       "[1, 3, 6, 10]"
      ]
     },
     "execution_count": 14,
     "metadata": {},
     "output_type": "execute_result"
    }
   ],
   "source": [
    "nums = [1, 2, 3, 4]\n",
    "\n",
    "def running_sum(nums):\n",
    "    prefix_sum = [nums[0]]\n",
    "\n",
    "    for i in range(1, len(nums)):\n",
    "        prefix_sum.append(nums[i] + prefix_sum[i - 1])\n",
    "\n",
    "    return prefix_sum\n",
    "\n",
    "running_sum(nums)"
   ]
  },
  {
   "cell_type": "markdown",
   "id": "78d80c7b-4707-4850-90aa-919ee348030b",
   "metadata": {},
   "source": [
    "**Q4)** Given an array of integers nums, you start with an initial positive value startValue. In each iteration, you calculate the step by step sum of startValue plus elements in nums (from left to right).Return the minimum positive value of startValue such that the step by step sum is never less than 1."
   ]
  },
  {
   "cell_type": "code",
   "execution_count": 18,
   "id": "6d3bd479-0f35-46f7-885b-8ddb64d287ab",
   "metadata": {},
   "outputs": [
    {
     "data": {
      "text/plain": [
       "5"
      ]
     },
     "execution_count": 18,
     "metadata": {},
     "output_type": "execute_result"
    }
   ],
   "source": [
    "nums = [-3, 2, -3, 4, 2]\n",
    "\n",
    "def min_val_pos(nums):\n",
    "    prefix_sum = [nums[0]]\n",
    "\n",
    "    for i in range(1, len(nums)):\n",
    "        prefix_sum.append(nums[i] + prefix_sum[i - 1])\n",
    "\n",
    "    min_num = min(prefix_sum)\n",
    "\n",
    "    num = 1\n",
    "    while True:\n",
    "        if num + min_num >= 1:\n",
    "            return num\n",
    "        num += 1\n",
    "\n",
    "min_val_pos(nums)"
   ]
  },
  {
   "cell_type": "markdown",
   "id": "330caa0c-508a-45c1-b595-632cc28d7d20",
   "metadata": {},
   "source": [
    "**Q5)** You are given a 0-indexed array nums of n integers, and an integer k. The k-radius average for a subarray of nums centered at some index i with the radius k is the average of all elements in nums between the indices i - k and i + k (inclusive). If there are less than k elements before or after the index i, then the k-radius average is -1. Build and return an array avgs of length n where avgs[i] is the k-radius average for the subarray centered at index i."
   ]
  },
  {
   "cell_type": "code",
   "execution_count": 33,
   "id": "f81862d2-ac2c-4ec8-a660-d0512464da89",
   "metadata": {},
   "outputs": [
    {
     "data": {
      "text/plain": [
       "[-1, -1, -1, 5, 4, 4, -1, -1, -1]"
      ]
     },
     "execution_count": 33,
     "metadata": {},
     "output_type": "execute_result"
    }
   ],
   "source": [
    "nums = [7,4,3,9,1,8,5,2,6]\n",
    "k = 3\n",
    "\n",
    "def k_radius_average(nums, k):\n",
    "    prefix_sum_arr = [nums[0]]\n",
    "\n",
    "    for i in range(1, len(nums)):\n",
    "        prefix_sum_arr.append(nums[i] + prefix_sum_arr[i - 1])\n",
    "\n",
    "    ans = []\n",
    "    for i in range(len(nums)):\n",
    "        if ((i - k) < 0) or ((i + k) > len(nums) - 1):\n",
    "            ans.append(-1)\n",
    "        else:\n",
    "            avg = (prefix_sum_arr[i + k] - prefix_sum_arr[i - k] + nums[i - k]) // ((2*k) + 1)\n",
    "            ans.append(avg)\n",
    "\n",
    "    return ans\n",
    "\n",
    "k_radius_average(nums, k)"
   ]
  },
  {
   "cell_type": "code",
   "execution_count": null,
   "id": "d044abd8-45ae-4124-8472-5b4adc5a6d63",
   "metadata": {},
   "outputs": [],
   "source": []
  }
 ],
 "metadata": {
  "kernelspec": {
   "display_name": "Python 3 (ipykernel)",
   "language": "python",
   "name": "python3"
  },
  "language_info": {
   "codemirror_mode": {
    "name": "ipython",
    "version": 3
   },
   "file_extension": ".py",
   "mimetype": "text/x-python",
   "name": "python",
   "nbconvert_exporter": "python",
   "pygments_lexer": "ipython3",
   "version": "3.12.2"
  }
 },
 "nbformat": 4,
 "nbformat_minor": 5
}
