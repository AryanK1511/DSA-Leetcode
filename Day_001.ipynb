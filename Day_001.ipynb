{
 "cells": [
  {
   "cell_type": "markdown",
   "id": "18f21fe2-724d-4d54-9b1d-87a2c350a3ad",
   "metadata": {},
   "source": [
    "# Day 1 - 17 February 202"
   ]
  },
  {
   "cell_type": "markdown",
   "id": "fc6a069b-ac4c-4dab-82ba-9c9458b88200",
   "metadata": {},
   "source": [
    "## Two Pointers "
   ]
  },
  {
   "cell_type": "markdown",
   "id": "4ce03c41-aecb-45cc-83eb-16cd93418b3d",
   "metadata": {},
   "source": [
    "**Q1)** Find out whether a given string is a palindrome or not."
   ]
  },
  {
   "cell_type": "code",
   "execution_count": 6,
   "id": "49211874-177b-4210-9309-4e920c8e239f",
   "metadata": {},
   "outputs": [
    {
     "data": {
      "text/plain": [
       "True"
      ]
     },
     "execution_count": 6,
     "metadata": {},
     "output_type": "execute_result"
    }
   ],
   "source": [
    "s = \"racecar\"\n",
    "\n",
    "def is_palindrome(s):\n",
    "    left = 0\n",
    "    right = len(s) - 1\n",
    "\n",
    "    while left < right:\n",
    "        if s[left] != s[right]:\n",
    "            return False\n",
    "        left += 1\n",
    "        right -= 1\n",
    "\n",
    "    return True\n",
    "\n",
    "is_palindrome(s)"
   ]
  },
  {
   "cell_type": "markdown",
   "id": "af4a5943-b43f-4582-8ae2-767ac5d1c596",
   "metadata": {},
   "source": [
    "**Q2)** Given a sorted array of unique integers and a target integer, return true if there exists a pair of numbers that sum to target, false otherwise. This problem is similar to Two Sum. (In Two Sum, the input is not sorted)."
   ]
  },
  {
   "cell_type": "code",
   "execution_count": 11,
   "id": "1b406915-ee2f-4544-ba7f-944a17b9908d",
   "metadata": {},
   "outputs": [
    {
     "data": {
      "text/plain": [
       "True"
      ]
     },
     "execution_count": 11,
     "metadata": {},
     "output_type": "execute_result"
    }
   ],
   "source": [
    "nums = [1, 2, 4, 6, 8, 9, 14, 15]\n",
    "target = 13\n",
    "\n",
    "def sorted_two_sum(nums, target):\n",
    "    left = 0\n",
    "    right = len(nums) - 1\n",
    "\n",
    "    while left < right:\n",
    "        sum = nums[left] + nums[right]\n",
    "        if sum > target:\n",
    "            right -= 1\n",
    "        elif sum < target:\n",
    "            left += 1\n",
    "        else:\n",
    "            return True\n",
    "\n",
    "    return False\n",
    "\n",
    "sorted_two_sum(nums, target)"
   ]
  },
  {
   "cell_type": "markdown",
   "id": "8f61d702-784f-4562-aed4-b485bfdf5356",
   "metadata": {},
   "source": [
    "**Q3)** Given two sorted integer arrays arr1 and arr2, return a new array that combines both of them and is also sorted."
   ]
  },
  {
   "cell_type": "code",
   "execution_count": 16,
   "id": "d6eb3e8e-a028-4667-b9c9-e53863e623bf",
   "metadata": {},
   "outputs": [
    {
     "data": {
      "text/plain": [
       "[1, 3, 4, 5, 6, 7, 20]"
      ]
     },
     "execution_count": 16,
     "metadata": {},
     "output_type": "execute_result"
    }
   ],
   "source": [
    "arr1 = [1, 4, 7, 20]\n",
    "arr2 = [3, 5, 6]\n",
    "\n",
    "def combine_sorted_arrays(arr1, arr2):\n",
    "    combined = []\n",
    "    arr1_pointer = arr2_pointer = 0\n",
    "\n",
    "    while arr1_pointer < len(arr1) and arr2_pointer < len(arr2):\n",
    "        if arr1[arr1_pointer] < arr2[arr2_pointer]:\n",
    "            combined.append(arr1[arr1_pointer])\n",
    "            arr1_pointer += 1\n",
    "        else:\n",
    "            combined.append(arr2[arr2_pointer])\n",
    "            arr2_pointer += 1\n",
    "\n",
    "    while arr1_pointer < len(arr1):\n",
    "        combined.append(arr1[arr1_pointer])\n",
    "        arr1_pointer += 1\n",
    "\n",
    "    while arr2_pointer < len(arr2):\n",
    "        combined.append(arr2[arr2_pointer])\n",
    "        arr2_pointer += 1\n",
    "\n",
    "    return combined\n",
    "\n",
    "combine_sorted_arrays(arr1, arr2)"
   ]
  },
  {
   "cell_type": "markdown",
   "id": "d796e5c3-840c-47d9-a207-92d39abe102b",
   "metadata": {},
   "source": [
    "**Q4)** Given two strings `s` and `t`, return `true` if `s`is a subsequence of `t`, or `false` otherwise. A subsequence of a string is a sequence of characters that can be obtained by deleting some (or none) of the characters from the original string, while maintaining the relative order of the remaining characters. For example, \"ace\" is a subsequence of \"abcde\" while \"aec\" is not."
   ]
  },
  {
   "cell_type": "code",
   "execution_count": 20,
   "id": "93c3efb0-ef54-41df-968a-0b3c209180a0",
   "metadata": {},
   "outputs": [
    {
     "data": {
      "text/plain": [
       "False"
      ]
     },
     "execution_count": 20,
     "metadata": {},
     "output_type": "execute_result"
    }
   ],
   "source": [
    "s = \"aec\"\n",
    "t = \"abcde\"\n",
    "\n",
    "def is_subsequence(s, t):\n",
    "    s_ptr = t_ptr = 0\n",
    "\n",
    "    while s_ptr < len(s) and t_ptr < len(t):\n",
    "        if s[s_ptr] == t[t_ptr]:\n",
    "            s_ptr += 1\n",
    "        t_ptr += 1\n",
    "\n",
    "    if s_ptr == len(s):\n",
    "        return True\n",
    "\n",
    "    return False\n",
    "\n",
    "is_subsequence(s, t)"
   ]
  },
  {
   "cell_type": "markdown",
   "id": "2fd8f17b-0028-48bd-aa98-9e6ef4979aa4",
   "metadata": {},
   "source": [
    "**Q5)** Write a function that reverses a string. The input string is given as an array of characters s. You must do this by modifying the input array in-place with O(1) extra memory."
   ]
  },
  {
   "cell_type": "code",
   "execution_count": 22,
   "id": "4af2bded-6eb0-4576-b69c-5c334cd4413b",
   "metadata": {},
   "outputs": [
    {
     "data": {
      "text/plain": [
       "['o', 'l', 'l', 'e', 'h']"
      ]
     },
     "execution_count": 22,
     "metadata": {},
     "output_type": "execute_result"
    }
   ],
   "source": [
    "s = [\"h\",\"e\",\"l\",\"l\",\"o\"]\n",
    "\n",
    "def reverse_string(s):\n",
    "    left, right = 0, len(s) - 1\n",
    "\n",
    "    while left < right:\n",
    "        s[left], s[right] = s[right], s[left]\n",
    "        left += 1\n",
    "        right -= 1\n",
    "\n",
    "    return s\n",
    "\n",
    "reverse_string(s)"
   ]
  },
  {
   "cell_type": "markdown",
   "id": "a26a9ae7-9147-4eb6-bcad-161330e044b7",
   "metadata": {},
   "source": [
    "**Q6)** Given an integer array nums sorted in non-decreasing order, return an array of the squares of each number sorted in non-decreasing order."
   ]
  },
  {
   "cell_type": "code",
   "execution_count": 23,
   "id": "9fdab77b-2357-4b58-a497-5cf24069855f",
   "metadata": {},
   "outputs": [
    {
     "data": {
      "text/plain": [
       "[0, 1, 9, 16, 100]"
      ]
     },
     "execution_count": 23,
     "metadata": {},
     "output_type": "execute_result"
    }
   ],
   "source": [
    "nums = [-4, -1, 0, 3, 10]\n",
    "\n",
    "def sorted_squares(nums):\n",
    "    left, right = 0, len(nums) - 1\n",
    "    result = [0] * len(nums)\n",
    "    index = len(result) - 1\n",
    "\n",
    "    while left < right:\n",
    "        if abs(nums[left]) > abs(nums[right]):\n",
    "            result[index] = nums[left] ** 2\n",
    "            left += 1\n",
    "        else:\n",
    "            result[index] = nums[right] ** 2\n",
    "            right -= 1\n",
    "        index -= 1\n",
    "\n",
    "    return result\n",
    "\n",
    "sorted_squares(nums)"
   ]
  },
  {
   "cell_type": "markdown",
   "id": "84e0e146-5d65-40a3-9e55-511e854f01d1",
   "metadata": {},
   "source": [
    "## Sliding Window"
   ]
  },
  {
   "cell_type": "markdown",
   "id": "4653748f-ef0f-40eb-822d-3ec137c2c7b2",
   "metadata": {},
   "source": [
    "**Q7)** Given an array of positive integers nums and an integer k, find the length of the longest subarray whose sum is less than or equal to k."
   ]
  },
  {
   "cell_type": "code",
   "execution_count": 26,
   "id": "d918d766-3919-4739-a327-1158eb27a578",
   "metadata": {},
   "outputs": [
    {
     "data": {
      "text/plain": [
       "4"
      ]
     },
     "execution_count": 26,
     "metadata": {},
     "output_type": "execute_result"
    }
   ],
   "source": [
    "nums = [3, 1, 2, 7, 4, 2, 1, 1, 5]\n",
    "k = 8\n",
    "\n",
    "def longest_subarray_length(nums, k):\n",
    "    left = sum = max_length = 0\n",
    "\n",
    "    for right in range(len(nums)):\n",
    "        sum += nums[right]\n",
    "\n",
    "        while sum > k:\n",
    "            sum -= nums[left]\n",
    "            left += 1\n",
    "\n",
    "        max_length = max(max_length, right - left + 1)\n",
    "\n",
    "    return max_length\n",
    "\n",
    "longest_subarray_length(nums, k)        "
   ]
  },
  {
   "cell_type": "markdown",
   "id": "6efa5c91-faf9-414a-bc3e-d4e252396143",
   "metadata": {},
   "source": [
    "**Q8)** You are given a binary string s (a string containing only \"0\" and \"1\"). You may choose up to one \"0\" and flip it to a \"1\". What is the length of the longest substring achievable that contains only \"1\"?"
   ]
  },
  {
   "cell_type": "code",
   "execution_count": 27,
   "id": "34c09b5f-0f94-4e27-ba8a-f4e14153e154",
   "metadata": {},
   "outputs": [
    {
     "data": {
      "text/plain": [
       "5"
      ]
     },
     "execution_count": 27,
     "metadata": {},
     "output_type": "execute_result"
    }
   ],
   "source": [
    "s = \"1101100111\"\n",
    "\n",
    "def longest_ss(s):\n",
    "    left = num_zeroes = max_length = 0\n",
    "\n",
    "    for right in range(len(s)):\n",
    "        if s[right] == \"0\":\n",
    "            num_zeroes += 1\n",
    "\n",
    "        while num_zeroes > 1:\n",
    "            if s[left] == \"0\":\n",
    "                num_zeroes -= 1\n",
    "            left += 1\n",
    "\n",
    "        max_length = max(max_length, right - left + 1)\n",
    "\n",
    "    return max_length\n",
    "\n",
    "longest_ss(s)"
   ]
  },
  {
   "cell_type": "markdown",
   "id": "a86aba70-4f9e-4924-8d78-b19f31b7dfc8",
   "metadata": {},
   "source": [
    "**Q9)** Given an array of positive integers nums and an integer k, return the number of subarrays where the product of all the elements in the subarray is strictly less than k."
   ]
  },
  {
   "cell_type": "code",
   "execution_count": 30,
   "id": "10c18d64-6f11-4dfe-b995-ba233bf1f406",
   "metadata": {},
   "outputs": [
    {
     "data": {
      "text/plain": [
       "8"
      ]
     },
     "execution_count": 30,
     "metadata": {},
     "output_type": "execute_result"
    }
   ],
   "source": [
    "nums = [10, 5, 2, 6]\n",
    "k = 100\n",
    "\n",
    "def subarrays_number(nums, k):\n",
    "    left = number_subs = 0\n",
    "    product = 1\n",
    "\n",
    "    for right in range(len(nums)):\n",
    "        product *= nums[right]\n",
    "\n",
    "        while product >= k:\n",
    "            product /= nums[left]\n",
    "            left += 1\n",
    "\n",
    "        number_subs += (right - left + 1)\n",
    "\n",
    "    return number_subs\n",
    "\n",
    "subarrays_number(nums, k)"
   ]
  },
  {
   "cell_type": "markdown",
   "id": "c4966100-70f7-4d46-97b8-de68caecd629",
   "metadata": {},
   "source": [
    "**Q10)** Given an integer array nums and an integer k, find the sum of the subarray with the largest sum whose length is k."
   ]
  },
  {
   "cell_type": "code",
   "execution_count": 31,
   "id": "80be3f88-755b-4b54-be39-05669aa992d2",
   "metadata": {},
   "outputs": [
    {
     "data": {
      "text/plain": [
       "18"
      ]
     },
     "execution_count": 31,
     "metadata": {},
     "output_type": "execute_result"
    }
   ],
   "source": [
    "nums = [3, -1, 4, 12, -8, 5, 6]\n",
    "k = 4\n",
    "\n",
    "def largest_sum_of_subarr(nums, k):\n",
    "    left = sum = 0\n",
    "\n",
    "    for right in range(k):\n",
    "        sum += nums[right]\n",
    "\n",
    "    max_sum = sum\n",
    "\n",
    "    for right in range(k, len(nums)):\n",
    "        sum += nums[right] - nums[right - k]\n",
    "        max_sum = max(max_sum, sum)\n",
    "\n",
    "    return max_sum\n",
    "\n",
    "largest_sum_of_subarr(nums, k)"
   ]
  },
  {
   "cell_type": "markdown",
   "id": "a2c18b71-978f-4733-97fb-28a989260856",
   "metadata": {},
   "source": [
    "**Q11)** You are given an integer array nums consisting of n elements, and an integer k. Find a contiguous subarray whose length is equal to k that has the maximum average value and return this value"
   ]
  },
  {
   "cell_type": "code",
   "execution_count": 32,
   "id": "295c3445-526d-407d-b848-d2f7fc204c48",
   "metadata": {},
   "outputs": [
    {
     "data": {
      "text/plain": [
       "12.75"
      ]
     },
     "execution_count": 32,
     "metadata": {},
     "output_type": "execute_result"
    }
   ],
   "source": [
    "nums = [1,12,-5,-6,50,3] \n",
    "k = 4\n",
    "\n",
    "def max_avg_subarr(nums, k):\n",
    "    left = sum = avrg = 0\n",
    "    \n",
    "    for right in range(k):\n",
    "        sum += nums[right]\n",
    "        right += 1\n",
    "\n",
    "    max_avrg = sum / k\n",
    "    \n",
    "    for right in range(k, len(nums)):\n",
    "        sum += nums[right] - nums[right - k]\n",
    "        avrg = sum / k\n",
    "\n",
    "        max_avrg = max(max_avrg, avrg)\n",
    "\n",
    "    return max_avrg\n",
    "\n",
    "max_avg_subarr(nums, k)"
   ]
  },
  {
   "cell_type": "markdown",
   "id": "61192f31-9a8d-464c-b15f-8a3587ac7f9e",
   "metadata": {},
   "source": [
    "**Q12)** Given a binary array nums and an integer k, return the maximum number of consecutive 1's in the array if you can flip at most k 0's."
   ]
  },
  {
   "cell_type": "code",
   "execution_count": 38,
   "id": "2d36ee40-6b77-4d83-8a51-0f2bb724ee02",
   "metadata": {},
   "outputs": [
    {
     "data": {
      "text/plain": [
       "6"
      ]
     },
     "execution_count": 38,
     "metadata": {},
     "output_type": "execute_result"
    }
   ],
   "source": [
    "nums = [1,1,1,0,0,0,1,1,1,1,0] \n",
    "k = 2\n",
    "\n",
    "def max_consec_ones(nums, k):\n",
    "    left = num_zeroes = max_ans = 0\n",
    "\n",
    "    for right in range(len(nums)):\n",
    "        if nums[right] == 0:\n",
    "            num_zeroes += 1\n",
    "            \n",
    "        while num_zeroes > k:\n",
    "            if nums[left] == 0:\n",
    "                num_zeroes -= 1\n",
    "            left += 1\n",
    "\n",
    "        max_ans = max(max_ans, right - left + 1)\n",
    "\n",
    "    return max_ans\n",
    "\n",
    "max_consec_ones(nums, k)"
   ]
  },
  {
   "cell_type": "code",
   "execution_count": null,
   "id": "f858825f-22c4-4b8c-abb3-2d77dc8cd90e",
   "metadata": {},
   "outputs": [],
   "source": []
  }
 ],
 "metadata": {
  "kernelspec": {
   "display_name": "Python 3 (ipykernel)",
   "language": "python",
   "name": "python3"
  },
  "language_info": {
   "codemirror_mode": {
    "name": "ipython",
    "version": 3
   },
   "file_extension": ".py",
   "mimetype": "text/x-python",
   "name": "python",
   "nbconvert_exporter": "python",
   "pygments_lexer": "ipython3",
   "version": "3.12.2"
  }
 },
 "nbformat": 4,
 "nbformat_minor": 5
}
